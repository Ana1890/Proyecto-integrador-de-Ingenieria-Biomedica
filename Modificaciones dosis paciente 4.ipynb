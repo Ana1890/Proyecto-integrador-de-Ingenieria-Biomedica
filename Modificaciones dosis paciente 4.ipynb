{
 "cells": [
  {
   "cell_type": "code",
   "execution_count": 1,
   "metadata": {},
   "outputs": [],
   "source": [
    "import cv2\n",
    "import numpy as np\n",
    "import matplotlib.pyplot as plt\n",
    "import pydicom"
   ]
  },
  {
   "cell_type": "code",
   "execution_count": 2,
   "metadata": {},
   "outputs": [
    {
     "name": "stdout",
     "output_type": "stream",
     "text": [
      "Ingrese un archivo: D:\\Users\\user\\Documents\\Tesis Ana\\Set de pacientes\\PI\\4\\3-BRAQUITERAPIA\\RD.1.3.6.1.4.1.2452.6.1973174232.1290410227.4094705057.3686867550.dcm\n"
     ]
    },
    {
     "data": {
      "text/plain": [
       "(0002, 0000) File Meta Information Group Length  UL: 220\n",
       "(0002, 0001) File Meta Information Version       OB: b'\\x00\\x01'\n",
       "(0002, 0002) Media Storage SOP Class UID         UI: RT Dose Storage\n",
       "(0002, 0003) Media Storage SOP Instance UID      UI: 1.3.6.1.4.1.2452.6.1973174232.1290410227.4094705057.3686867550\n",
       "(0002, 0010) Transfer Syntax UID                 UI: Explicit VR Little Endian\n",
       "(0002, 0012) Implementation Class UID            UI: 1.2.250.1.59.3.0.3.5.3\n",
       "(0002, 0013) Implementation Version Name         SH: 'ETIAM_DCMTK_353'\n",
       "(0002, 0016) Source Application Entity Title     AE: 'OTP_SCU'"
      ]
     },
     "execution_count": 2,
     "metadata": {},
     "output_type": "execute_result"
    }
   ],
   "source": [
    "ds = pydicom.read_file(str(input('Ingrese un archivo: ')))\n",
    "ds.file_meta\n",
    "# 1) Copiar la ruta donde está ubicado nuestro archivo\n",
    "# 2) Colocar una barra más y copiar el nombre del archivo con la extensión incluida ('.dcm')\n",
    "# 3) Sólo presionar \"enter\""
   ]
  },
  {
   "cell_type": "code",
   "execution_count": 3,
   "metadata": {},
   "outputs": [
    {
     "data": {
      "text/plain": [
       "(0008, 0005) Specific Character Set              CS: 'ISO_IR 100'\n",
       "(0008, 0008) Image Type                          CS: ['ORIGINAL', 'PRIMARY', 'DOSE']\n",
       "(0008, 0012) Instance Creation Date              DA: '20190129'\n",
       "(0008, 0013) Instance Creation Time              TM: '124045'\n",
       "(0008, 0016) SOP Class UID                       UI: RT Dose Storage\n",
       "(0008, 0018) SOP Instance UID                    UI: 1.3.6.1.4.1.2452.6.1973174232.1290410227.4094705057.3686867550\n",
       "(0008, 0020) Study Date                          DA: '20190129'\n",
       "(0008, 0023) Content Date                        DA: '20190129'\n",
       "(0008, 0030) Study Time                          TM: '120027.500000'\n",
       "(0008, 0033) Content Time                        TM: '124045'\n",
       "(0008, 0050) Accession Number                    SH: ''\n",
       "(0008, 0060) Modality                            CS: 'RTDOSE'\n",
       "(0008, 0070) Manufacturer                        LO: 'Nucletron'\n",
       "(0008, 0090) Referring Physician's Name          PN: 'DRA BRUN'\n",
       "(0008, 0201) Timezone Offset From UTC            SH: '-0300'\n",
       "(0008, 1010) Station Name                        SH: 'OTP_BRACHY'\n",
       "(0008, 1030) Study Description                   LO: 'RT^BRAQUI (Adulto)'\n",
       "(0008, 103e) Series Description                  LO: 'Dose for SESION 1'\n",
       "(0008, 1040) Institutional Department Name       LO: ''\n",
       "(0008, 1090) Manufacturer's Model Name           LO: 'Oncentra'\n",
       "(0010, 0010) Patient's Name                      PN: 'PACIENTE4'\n",
       "(0010, 0020) Patient ID                          LO: '4'\n",
       "(0010, 0030) Patient's Birth Date                DA: ''\n",
       "(0010, 0040) Patient's Sex                       CS: 'F'\n",
       "(0018, 0050) Slice Thickness                     DS: \"0.0\"\n",
       "(0018, 1020) Software Versions                   LO: 'OTP V4.5.3.30'\n",
       "(0020, 000d) Study Instance UID                  UI: 1.3.6.1.4.1.2452.6.243730269.1238914220.112786622.1027582520\n",
       "(0020, 000e) Series Instance UID                 UI: 1.3.6.1.4.1.2452.6.1391146992.1278588140.3308578488.4278787018\n",
       "(0020, 0010) Study ID                            SH: '1'\n",
       "(0020, 0011) Series Number                       IS: \"1\"\n",
       "(0020, 0012) Acquisition Number                  IS: \"1\"\n",
       "(0020, 0013) Instance Number                     IS: None\n",
       "(0020, 0032) Image Position (Patient)            DS: [-42.355000, -273.057000, -494.332000]\n",
       "(0020, 0037) Image Orientation (Patient)         DS: [1, 0, 0, 0, 1, 0]\n",
       "(0020, 0052) Frame of Reference UID              UI: 1.3.12.2.1107.5.1.4.78531.30000019012909495282800001011\n",
       "(0020, 1040) Position Reference Indicator        LO: ''\n",
       "(0020, 4000) Image Comments                      LT: ''\n",
       "(0028, 0002) Samples per Pixel                   US: 1\n",
       "(0028, 0004) Photometric Interpretation          CS: 'MONOCHROME2'\n",
       "(0028, 0008) Number of Frames                    IS: \"101\"\n",
       "(0028, 0009) Frame Increment Pointer             AT: (3004, 000c)\n",
       "(0028, 0010) Rows                                US: 88\n",
       "(0028, 0011) Columns                             US: 87\n",
       "(0028, 0030) Pixel Spacing                       DS: [1.000000, 1.000000]\n",
       "(0028, 0100) Bits Allocated                      US: 32\n",
       "(0028, 0101) Bits Stored                         US: 32\n",
       "(0028, 0102) High Bit                            US: 31\n",
       "(0028, 0103) Pixel Representation                US: 0\n",
       "(3004, 0002) Dose Units                          CS: 'GY'\n",
       "(3004, 0004) Dose Type                           CS: 'PHYSICAL'\n",
       "(3004, 0006) Dose Comment                        LO: ''\n",
       "(3004, 000a) Dose Summation Type                 CS: 'PLAN'\n",
       "(3004, 000c) Grid Frame Offset Vector            DS: Array of 101 elements\n",
       "(3004, 000e) Dose Grid Scaling                   DS: \"1.303852e-08\""
      ]
     },
     "execution_count": 3,
     "metadata": {},
     "output_type": "execute_result"
    }
   ],
   "source": [
    "#Visualizamos información de interés\n",
    "ds[:[0x3004, 0x010]]"
   ]
  },
  {
   "cell_type": "code",
   "execution_count": 4,
   "metadata": {},
   "outputs": [
    {
     "name": "stdout",
     "output_type": "stream",
     "text": [
      "Nuestra imágen se puede representar con una matriz de dimensión: (101, 88, 87) Y el tipo de datos de cada pixel es: uint32 Y una resolución de [1.000000, 1.000000] mm\n"
     ]
    }
   ],
   "source": [
    "braquiarray=ds.pixel_array\n",
    "\n",
    "print(\"Nuestra imágen se puede representar con una matriz de dimensión: \" + str(braquiarray.shape) + \" Y el tipo de datos de cada pixel es: \" + str(braquiarray[0,0,0].dtype) + \" Y una resolución de \" + str(ds.PixelSpacing) + \" mm\")"
   ]
  },
  {
   "cell_type": "code",
   "execution_count": null,
   "metadata": {},
   "outputs": [],
   "source": []
  },
  {
   "cell_type": "code",
   "execution_count": 5,
   "metadata": {},
   "outputs": [],
   "source": [
    "# El objetivo es igualar sólo en tamaño la imágen de dosis a la de tomografía, las dos son de la misma sesión de braquiterapia\n",
    "# Como las imágenes de tomografía se encuentran sueltas adapatamos un código para poder visualiar nuestra tomografía\n",
    "# y poder visualizar a qué dimensiones queremos llegar.\n"
   ]
  },
  {
   "cell_type": "code",
   "execution_count": 6,
   "metadata": {},
   "outputs": [],
   "source": [
    "import os\n",
    "import glob"
   ]
  },
  {
   "cell_type": "code",
   "execution_count": 7,
   "metadata": {},
   "outputs": [
    {
     "name": "stdout",
     "output_type": "stream",
     "text": [
      "Ingrese la ruta de la carpeta de archivos: D:\\Users\\user\\Documents\\Tesis Ana\\tomografía_pt4\n"
     ]
    }
   ],
   "source": [
    "# Cargo la carpeta donde guardé las imágenes de tomografía de interés.\n",
    "# Aegurarse de hacer los mismos pasos que en el código anterior, pero ésta vez, ingresar sólo la ruta de la carpeta de \n",
    "# nuestros archivos.\n",
    "\n",
    "INPUT_FOLDER = (str(input('Ingrese la ruta de la carpeta de archivos: ')))\n",
    "patients =  os.listdir(INPUT_FOLDER)\n",
    "patients.sort()"
   ]
  },
  {
   "cell_type": "code",
   "execution_count": 8,
   "metadata": {},
   "outputs": [
    {
     "name": "stdout",
     "output_type": "stream",
     "text": [
      "['D:\\\\Users\\\\user\\\\Documents\\\\Tesis Ana\\\\tomografía_pt4\\\\CT.1.3.6.1.4.1.2452.6.1058992663.1188242243.1755528353.533819682.dcm', 'D:\\\\Users\\\\user\\\\Documents\\\\Tesis Ana\\\\tomografía_pt4\\\\CT.1.3.6.1.4.1.2452.6.1059742033.1137527628.1529063336.2321139355.dcm', 'D:\\\\Users\\\\user\\\\Documents\\\\Tesis Ana\\\\tomografía_pt4\\\\CT.1.3.6.1.4.1.2452.6.1086182786.1219111678.3536701348.349853897.dcm', 'D:\\\\Users\\\\user\\\\Documents\\\\Tesis Ana\\\\tomografía_pt4\\\\CT.1.3.6.1.4.1.2452.6.112030103.1162690724.190550199.561085196.dcm', 'D:\\\\Users\\\\user\\\\Documents\\\\Tesis Ana\\\\tomografía_pt4\\\\CT.1.3.6.1.4.1.2452.6.1168836046.1186084576.128308664.4237547074.dcm', 'D:\\\\Users\\\\user\\\\Documents\\\\Tesis Ana\\\\tomografía_pt4\\\\CT.1.3.6.1.4.1.2452.6.1171439613.1222537863.1517479074.155637457.dcm']\n"
     ]
    }
   ],
   "source": [
    "lstFilesDCM = []   # creo una lista vacía y voy agreagando los archivos DICOM en la lista\n",
    "def load_scan2(path):\n",
    "    for dirName, subdirList, fileList in os.walk(path):\n",
    "        for filename in fileList:\n",
    "            if \".dcm\" in filename.lower():  \n",
    "                lstFilesDCM.append(os.path.join(dirName, filename))\n",
    "    return lstFilesDCM\n",
    "\n",
    "first_patient = load_scan2(INPUT_FOLDER)\n",
    "print(lstFilesDCM[0:6])  #para visualizar los primeros 7 elementos de la lista"
   ]
  },
  {
   "cell_type": "code",
   "execution_count": 9,
   "metadata": {},
   "outputs": [
    {
     "name": "stdout",
     "output_type": "stream",
     "text": [
      "D:\\Users\\user\\Documents\\Tesis Ana\\tomografía_pt4\\CT.1.3.6.1.4.1.2452.6.1058992663.1188242243.1755528353.533819682.dcm\n"
     ]
    }
   ],
   "source": [
    "print (lstFilesDCM[0]) #visualizo el primer elemento de la lista\n",
    "\n",
    "RefDs = pydicom.read_file(lstFilesDCM[0]) #leo el primer elemento\n",
    "\n",
    "# Cargo las dimensiones basadas en el numnero de filas, columnas,y cortes(a lo largo del eje z)\n",
    "ConstPixelDims = (int(RefDs.Rows), int(RefDs.Columns), len(lstFilesDCM))\n",
    "\n",
    "# Cargo el espácio entre los datos (en mm)\n",
    "ConstPixelSpacing = (float(RefDs.PixelSpacing[0]), float(RefDs.PixelSpacing[1]), float(RefDs.SliceThickness))\n",
    "\n",
    "\n",
    "x = np.arange(0.0, (ConstPixelDims[0]+1)*ConstPixelSpacing[0], ConstPixelSpacing[0])\n",
    "y = np.arange(0.0, (ConstPixelDims[1]+1)*ConstPixelSpacing[1], ConstPixelSpacing[1])\n",
    "z = np.arange(0.0, (ConstPixelDims[2]+1)*ConstPixelSpacing[2], ConstPixelSpacing[2])"
   ]
  },
  {
   "cell_type": "code",
   "execution_count": 10,
   "metadata": {},
   "outputs": [],
   "source": [
    "# El arreglo está dimensionado en 'ConstPixelDims'\n",
    "cortes=[]\n",
    "ArrayDicom = np.zeros(ConstPixelDims, dtype=RefDs.pixel_array.dtype)\n",
    "\n",
    "# Bucle a través de todos los archivos DICOM\n",
    "for filenameDCM in lstFilesDCM:\n",
    "    # Leo el archivo\n",
    "    ds_ct = pydicom.read_file(filenameDCM)\n",
    "    cortes.append(ds_ct[0x020, 0x032].value[2])\n",
    "    # Almaceno los datos de imágen sin procesar\n",
    "    ArrayDicom[:, :, lstFilesDCM.index(filenameDCM)] = ds_ct.pixel_array"
   ]
  },
  {
   "cell_type": "code",
   "execution_count": 11,
   "metadata": {},
   "outputs": [
    {
     "data": {
      "text/plain": [
       "\"-521.1\""
      ]
     },
     "execution_count": 11,
     "metadata": {},
     "output_type": "execute_result"
    }
   ],
   "source": [
    "# de todos los cortes, sacamos aquel que tiene el máximo en su coordenada (número de corte en mm)\n",
    "min(cortes)"
   ]
  },
  {
   "cell_type": "code",
   "execution_count": 12,
   "metadata": {},
   "outputs": [
    {
     "name": "stdout",
     "output_type": "stream",
     "text": [
      "Nuestra tomografía se representa con una matriz de dimensión (512, 512, 129) Y cada píxel es de tipo uint16 Con una resolución de [0.9765625, 0.9765625] mm\n"
     ]
    }
   ],
   "source": [
    "print(\"Nuestra tomografía se representa con una matriz de dimensión \" + str(ArrayDicom.shape) + \" Y cada píxel es de tipo \" + str(ArrayDicom[0,0,0].dtype) + \" Con una resolución de \" + str(RefDs.PixelSpacing) + \" mm\")"
   ]
  },
  {
   "cell_type": "code",
   "execution_count": 38,
   "metadata": {},
   "outputs": [],
   "source": [
    "# Nuestra fórmula para redimensionar sería: DimBraquiNuevo=DimRadioMax * PixelSpacingRadio\n",
    "DimBraqui=braquiarray.shape\n",
    "DimRadio=ArrayDicom.shape\n",
    "ResTC=RefDs.PixelSpacing[0]"
   ]
  },
  {
   "cell_type": "code",
   "execution_count": 14,
   "metadata": {},
   "outputs": [
    {
     "data": {
      "text/plain": [
       "(512, 512, 129)"
      ]
     },
     "execution_count": 14,
     "metadata": {},
     "output_type": "execute_result"
    }
   ],
   "source": [
    "DimRadio"
   ]
  },
  {
   "cell_type": "code",
   "execution_count": 15,
   "metadata": {},
   "outputs": [
    {
     "data": {
      "text/plain": [
       "(101, 88, 87)"
      ]
     },
     "execution_count": 15,
     "metadata": {},
     "output_type": "execute_result"
    }
   ],
   "source": [
    "DimBraqui"
   ]
  },
  {
   "cell_type": "code",
   "execution_count": 16,
   "metadata": {},
   "outputs": [],
   "source": [
    "ceros=np.zeros([int(DimRadio[2]*RefDs.SliceThickness),int(DimRadio[0]*ResTC),int(DimRadio[1]*ResTC)])\n"
   ]
  },
  {
   "cell_type": "code",
   "execution_count": 17,
   "metadata": {},
   "outputs": [
    {
     "data": {
      "text/plain": [
       "(193, 500, 500)"
      ]
     },
     "execution_count": 17,
     "metadata": {},
     "output_type": "execute_result"
    }
   ],
   "source": [
    "ceros.shape"
   ]
  },
  {
   "cell_type": "code",
   "execution_count": 18,
   "metadata": {},
   "outputs": [
    {
     "data": {
      "text/plain": [
       "dtype('float64')"
      ]
     },
     "execution_count": 18,
     "metadata": {},
     "output_type": "execute_result"
    }
   ],
   "source": [
    "# Transformamos el tipo de datos para igualarlo con la imágen de braqui\n",
    "ceros.dtype"
   ]
  },
  {
   "cell_type": "code",
   "execution_count": 19,
   "metadata": {},
   "outputs": [],
   "source": [
    "cerosdosis=ceros.astype(braquiarray.dtype)"
   ]
  },
  {
   "cell_type": "code",
   "execution_count": 20,
   "metadata": {},
   "outputs": [
    {
     "data": {
      "text/plain": [
       "[-42.355000, -273.057000, -494.332000]"
      ]
     },
     "execution_count": 20,
     "metadata": {},
     "output_type": "execute_result"
    }
   ],
   "source": [
    "#rtdose\n",
    "rtdose=ds[0x020, 0x032].value\n",
    "rtdose"
   ]
  },
  {
   "cell_type": "code",
   "execution_count": 21,
   "metadata": {},
   "outputs": [
    {
     "data": {
      "text/plain": [
       "[-249.51171875, -498.51171875, -501.6]"
      ]
     },
     "execution_count": 21,
     "metadata": {},
     "output_type": "execute_result"
    }
   ],
   "source": [
    "#tc\n",
    "tc=RefDs[0x020, 0x032].value\n",
    "tc"
   ]
  },
  {
   "cell_type": "code",
   "execution_count": 22,
   "metadata": {},
   "outputs": [
    {
     "data": {
      "text/plain": [
       "65.832"
      ]
     },
     "execution_count": 22,
     "metadata": {},
     "output_type": "execute_result"
    }
   ],
   "source": [
    "#numero de frames\n",
    "inicio0=abs(ds[0x020, 0x032].value[2]+braquiarray.shape[0])-abs(int(min(cortes))+(ArrayDicom.shape[2]*RefDs.SliceThickness))\n",
    "inicio0"
   ]
  },
  {
   "cell_type": "code",
   "execution_count": 23,
   "metadata": {},
   "outputs": [
    {
     "data": {
      "text/plain": [
       "26.168000000000006"
      ]
     },
     "execution_count": 23,
     "metadata": {},
     "output_type": "execute_result"
    }
   ],
   "source": [
    "inicio0=(cerosdosis.shape[0])-inicio0-braquiarray.shape[0]\n",
    "inicio0"
   ]
  },
  {
   "cell_type": "code",
   "execution_count": 24,
   "metadata": {},
   "outputs": [
    {
     "data": {
      "text/plain": [
       "-225.45471874999998"
      ]
     },
     "execution_count": 24,
     "metadata": {},
     "output_type": "execute_result"
    }
   ],
   "source": [
    "#filas\n",
    "#inicio1= abs(ds[0x020, 0x032].value[1]+braquiarray.shape[1])-abs(RefDs[0x020, 0x032].value[1]+ArrayDicom.shape[0]) \n",
    "inicio1=abs(ds[0x020, 0x032].value[1])-abs(RefDs[0x020, 0x032].value[1])\n",
    "inicio1"
   ]
  },
  {
   "cell_type": "code",
   "execution_count": 25,
   "metadata": {},
   "outputs": [
    {
     "data": {
      "text/plain": [
       "-207.15671875"
      ]
     },
     "execution_count": 25,
     "metadata": {},
     "output_type": "execute_result"
    }
   ],
   "source": [
    "#columnas\n",
    "inicio2= abs(ds[0x020, 0x032].value[0])-abs(RefDs[0x020, 0x032].value[0]) \n",
    "inicio2"
   ]
  },
  {
   "cell_type": "code",
   "execution_count": 26,
   "metadata": {},
   "outputs": [],
   "source": [
    "# Realizamos el zeropadding\n",
    "\n",
    "contador=np.arange(braquiarray.shape[0])\n",
    "\n",
    "for i in contador:\n",
    "    cualquiera=braquiarray[i]\n",
    "    cerosdosis[int(abs(inicio0))+i , int(abs(inicio1)):abs(int(abs(inicio1))+cualquiera.shape[0]) , int(abs(inicio2)):abs(int(abs(inicio2))+cualquiera.shape[1])]=cualquiera "
   ]
  },
  {
   "cell_type": "code",
   "execution_count": 35,
   "metadata": {},
   "outputs": [
    {
     "data": {
      "image/png": "[encoded data removed]",
      "text/plain": [
       "<Figure size 432x288 with 1 Axes>"
      ]
     },
     "metadata": {
      "needs_background": "light"
     },
     "output_type": "display_data"
    }
   ],
   "source": [
    "#Visualizamos un corte para corroborar que se hizo el zeropadding como queríamos\n",
    "\n",
    "plt.imshow(cerosdosis[66,:,:])\n",
    "plt.show()"
   ]
  },
  {
   "cell_type": "code",
   "execution_count": null,
   "metadata": {},
   "outputs": [],
   "source": []
  },
  {
   "cell_type": "code",
   "execution_count": 36,
   "metadata": {},
   "outputs": [],
   "source": [
    "# Procesdemos a guardar nuestra nueva imágen\n",
    "\n",
    "ds.PixelData=cerosdosis.tobytes('C')\n",
    "ds.Rows,ds.Columns =cerosdosis[0].shape\n",
    "ds[0x28, 0x08].value=cerosdosis.shape[0]\n"
   ]
  },
  {
   "cell_type": "code",
   "execution_count": null,
   "metadata": {},
   "outputs": [],
   "source": []
  },
  {
   "cell_type": "code",
   "execution_count": 37,
   "metadata": {},
   "outputs": [
    {
     "name": "stdout",
     "output_type": "stream",
     "text": [
      "Ingrese nombre del archivo'nuevo_braqui_pt4.dcm'\n"
     ]
    }
   ],
   "source": [
    "# Esta parte del codigo es para no sobreescribir las distintas imágenes que vamos modificando\n",
    "# Acordarse de incluir la extensión '.dcm'\n",
    "\n",
    "ds.save_as(str(input('Ingrese nombre del archivo')))"
   ]
  },
  {
   "cell_type": "code",
   "execution_count": 44,
   "metadata": {},
   "outputs": [],
   "source": []
  },
  {
   "cell_type": "code",
   "execution_count": null,
   "metadata": {},
   "outputs": [],
   "source": []
  },
  {
   "cell_type": "code",
   "execution_count": 45,
   "metadata": {},
   "outputs": [],
   "source": [
    "#out_path = \"D:/Users/user/Documents/Tesis Ana/Nuevas dosis\"\n",
    "#os.path.join(out_path, image)"
   ]
  }
 ],
 "metadata": {
  "kernelspec": {
   "display_name": "Python 3",
   "language": "python",
   "name": "python3"
  },
  "language_info": {
   "codemirror_mode": {
    "name": "ipython",
    "version": 3
   },
   "file_extension": ".py",
   "mimetype": "text/x-python",
   "name": "python",
   "nbconvert_exporter": "python",
   "pygments_lexer": "ipython3",
   "version": "3.8.3"
  }
 },
 "nbformat": 4,
 "nbformat_minor": 4
}
